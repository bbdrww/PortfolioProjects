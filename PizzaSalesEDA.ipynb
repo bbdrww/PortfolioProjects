{
 "cells": [
  {
   "attachments": {},
   "cell_type": "markdown",
   "id": "8cc08868",
   "metadata": {},
   "source": [
    "# Pizza Sales EDA Project"
   ]
  },
  {
   "attachments": {},
   "cell_type": "markdown",
   "id": "d2d31ecf",
   "metadata": {},
   "source": [
    "# Here are some questions that we'd like to be able to answer:\n",
    "\n",
    "    1. What days and times do we tend to be busiest?\n",
    "    2. How many pizzas are we making during peak periods?\n",
    "    3. What are our best and worst-selling pizzas?\n",
    "    4. What's our average order value?\n",
    "    5. How well are we utilizing our seating capacity? (we have 15 tables and 60 seats)"
   ]
  },
  {
   "cell_type": "code",
   "execution_count": 2,
   "id": "91243e2e",
   "metadata": {},
   "outputs": [],
   "source": [
    "# importing libraries \n",
    "\n",
    "import numpy as np\n",
    "import pandas as pd \n",
    "import matplotlib.pyplot as plt\n",
    "import datetime\n",
    "import time\n",
    "import seaborn as sns\n",
    "import os\n",
    "import zipfile\n"
   ]
  },
  {
   "cell_type": "code",
   "execution_count": 3,
   "id": "fc1ea87c",
   "metadata": {
    "scrolled": true
   },
   "outputs": [
    {
     "name": "stdout",
     "output_type": "stream",
     "text": [
      ".\n",
      "['.ipynb_checkpoints']\n",
      "['.DS_Store', 'Data Model - Pizza Sales.xlsx', 'Data Model - Pizza Sales.xlsx.zip', 'PizzaSales.ipynb']\n",
      "--------------------------------\n",
      "./.ipynb_checkpoints\n",
      "[]\n",
      "['PizzaSales-checkpoint.ipynb']\n",
      "--------------------------------\n"
     ]
    }
   ],
   "source": [
    "# Driver function\n",
    "\n",
    "if __name__ == \"__main__\":\n",
    "    for (root,dirs,files) in os.walk('.', topdown=True):\n",
    "        print(root)\n",
    "        print(dirs)\n",
    "        print (files)\n",
    "        print ('--------------------------------')"
   ]
  },
  {
   "cell_type": "code",
   "execution_count": 84,
   "id": "f76a2a79",
   "metadata": {},
   "outputs": [],
   "source": [
    "# unzip zip file \n",
    "\n",
    "with zipfile.ZipFile(\"Data Model - Pizza Sales.xlsx.zip\",\"r\") as z:\n",
    "    z.extractall(\".\")\n"
   ]
  },
  {
   "cell_type": "code",
   "execution_count": 85,
   "id": "c36b57b8",
   "metadata": {},
   "outputs": [
    {
     "data": {
      "text/html": [
       "<div>\n",
       "<style scoped>\n",
       "    .dataframe tbody tr th:only-of-type {\n",
       "        vertical-align: middle;\n",
       "    }\n",
       "\n",
       "    .dataframe tbody tr th {\n",
       "        vertical-align: top;\n",
       "    }\n",
       "\n",
       "    .dataframe thead th {\n",
       "        text-align: right;\n",
       "    }\n",
       "</style>\n",
       "<table border=\"1\" class=\"dataframe\">\n",
       "  <thead>\n",
       "    <tr style=\"text-align: right;\">\n",
       "      <th></th>\n",
       "      <th>order_details_id</th>\n",
       "      <th>order_id</th>\n",
       "      <th>pizza_id</th>\n",
       "      <th>quantity</th>\n",
       "      <th>order_date</th>\n",
       "      <th>order_time</th>\n",
       "      <th>unit_price</th>\n",
       "      <th>total_price</th>\n",
       "      <th>pizza_size</th>\n",
       "      <th>pizza_category</th>\n",
       "      <th>pizza_ingredients</th>\n",
       "      <th>pizza_name</th>\n",
       "    </tr>\n",
       "  </thead>\n",
       "  <tbody>\n",
       "    <tr>\n",
       "      <th>0</th>\n",
       "      <td>1</td>\n",
       "      <td>1</td>\n",
       "      <td>hawaiian_m</td>\n",
       "      <td>1</td>\n",
       "      <td>2015-01-01</td>\n",
       "      <td>11:38:36</td>\n",
       "      <td>13.25</td>\n",
       "      <td>13.25</td>\n",
       "      <td>M</td>\n",
       "      <td>Classic</td>\n",
       "      <td>Sliced Ham, Pineapple, Mozzarella Cheese</td>\n",
       "      <td>The Hawaiian Pizza</td>\n",
       "    </tr>\n",
       "    <tr>\n",
       "      <th>1</th>\n",
       "      <td>2</td>\n",
       "      <td>2</td>\n",
       "      <td>classic_dlx_m</td>\n",
       "      <td>1</td>\n",
       "      <td>2015-01-01</td>\n",
       "      <td>11:57:40</td>\n",
       "      <td>16.00</td>\n",
       "      <td>16.00</td>\n",
       "      <td>M</td>\n",
       "      <td>Classic</td>\n",
       "      <td>Pepperoni, Mushrooms, Red Onions, Red Peppers,...</td>\n",
       "      <td>The Classic Deluxe Pizza</td>\n",
       "    </tr>\n",
       "    <tr>\n",
       "      <th>2</th>\n",
       "      <td>3</td>\n",
       "      <td>2</td>\n",
       "      <td>five_cheese_l</td>\n",
       "      <td>1</td>\n",
       "      <td>2015-01-01</td>\n",
       "      <td>11:57:40</td>\n",
       "      <td>18.50</td>\n",
       "      <td>18.50</td>\n",
       "      <td>L</td>\n",
       "      <td>Veggie</td>\n",
       "      <td>Mozzarella Cheese, Provolone Cheese, Smoked Go...</td>\n",
       "      <td>The Five Cheese Pizza</td>\n",
       "    </tr>\n",
       "    <tr>\n",
       "      <th>3</th>\n",
       "      <td>4</td>\n",
       "      <td>2</td>\n",
       "      <td>ital_supr_l</td>\n",
       "      <td>1</td>\n",
       "      <td>2015-01-01</td>\n",
       "      <td>11:57:40</td>\n",
       "      <td>20.75</td>\n",
       "      <td>20.75</td>\n",
       "      <td>L</td>\n",
       "      <td>Supreme</td>\n",
       "      <td>Calabrese Salami, Capocollo, Tomatoes, Red Oni...</td>\n",
       "      <td>The Italian Supreme Pizza</td>\n",
       "    </tr>\n",
       "    <tr>\n",
       "      <th>4</th>\n",
       "      <td>5</td>\n",
       "      <td>2</td>\n",
       "      <td>mexicana_m</td>\n",
       "      <td>1</td>\n",
       "      <td>2015-01-01</td>\n",
       "      <td>11:57:40</td>\n",
       "      <td>16.00</td>\n",
       "      <td>16.00</td>\n",
       "      <td>M</td>\n",
       "      <td>Veggie</td>\n",
       "      <td>Tomatoes, Red Peppers, Jalapeno Peppers, Red O...</td>\n",
       "      <td>The Mexicana Pizza</td>\n",
       "    </tr>\n",
       "  </tbody>\n",
       "</table>\n",
       "</div>"
      ],
      "text/plain": [
       "   order_details_id  order_id       pizza_id  quantity order_date order_time  \\\n",
       "0                 1         1     hawaiian_m         1 2015-01-01   11:38:36   \n",
       "1                 2         2  classic_dlx_m         1 2015-01-01   11:57:40   \n",
       "2                 3         2  five_cheese_l         1 2015-01-01   11:57:40   \n",
       "3                 4         2    ital_supr_l         1 2015-01-01   11:57:40   \n",
       "4                 5         2     mexicana_m         1 2015-01-01   11:57:40   \n",
       "\n",
       "   unit_price  total_price pizza_size pizza_category  \\\n",
       "0       13.25        13.25          M        Classic   \n",
       "1       16.00        16.00          M        Classic   \n",
       "2       18.50        18.50          L         Veggie   \n",
       "3       20.75        20.75          L        Supreme   \n",
       "4       16.00        16.00          M         Veggie   \n",
       "\n",
       "                                   pizza_ingredients  \\\n",
       "0           Sliced Ham, Pineapple, Mozzarella Cheese   \n",
       "1  Pepperoni, Mushrooms, Red Onions, Red Peppers,...   \n",
       "2  Mozzarella Cheese, Provolone Cheese, Smoked Go...   \n",
       "3  Calabrese Salami, Capocollo, Tomatoes, Red Oni...   \n",
       "4  Tomatoes, Red Peppers, Jalapeno Peppers, Red O...   \n",
       "\n",
       "                  pizza_name  \n",
       "0         The Hawaiian Pizza  \n",
       "1   The Classic Deluxe Pizza  \n",
       "2      The Five Cheese Pizza  \n",
       "3  The Italian Supreme Pizza  \n",
       "4         The Mexicana Pizza  "
      ]
     },
     "execution_count": 85,
     "metadata": {},
     "output_type": "execute_result"
    }
   ],
   "source": [
    "# read dataset\n",
    "\n",
    "df = pd.read_excel(\"Data Model - Pizza Sales.xlsx\")\n",
    "df.head()"
   ]
  },
  {
   "cell_type": "code",
   "execution_count": 86,
   "id": "3a45a1cd",
   "metadata": {
    "scrolled": false
   },
   "outputs": [
    {
     "name": "stdout",
     "output_type": "stream",
     "text": [
      "<class 'pandas.core.frame.DataFrame'>\n",
      "RangeIndex: 48620 entries, 0 to 48619\n",
      "Data columns (total 12 columns):\n",
      " #   Column             Non-Null Count  Dtype         \n",
      "---  ------             --------------  -----         \n",
      " 0   order_details_id   48620 non-null  int64         \n",
      " 1   order_id           48620 non-null  int64         \n",
      " 2   pizza_id           48620 non-null  object        \n",
      " 3   quantity           48620 non-null  int64         \n",
      " 4   order_date         48620 non-null  datetime64[ns]\n",
      " 5   order_time         48620 non-null  object        \n",
      " 6   unit_price         48620 non-null  float64       \n",
      " 7   total_price        48620 non-null  float64       \n",
      " 8   pizza_size         48620 non-null  object        \n",
      " 9   pizza_category     48620 non-null  object        \n",
      " 10  pizza_ingredients  48620 non-null  object        \n",
      " 11  pizza_name         48620 non-null  object        \n",
      "dtypes: datetime64[ns](1), float64(2), int64(3), object(6)\n",
      "memory usage: 4.5+ MB\n"
     ]
    }
   ],
   "source": [
    "# checking dataset info\n",
    "\n",
    "df.info()"
   ]
  },
  {
   "cell_type": "code",
   "execution_count": 87,
   "id": "0577b7cc",
   "metadata": {},
   "outputs": [
    {
     "data": {
      "text/plain": [
       "order_details_id     0\n",
       "order_id             0\n",
       "pizza_id             0\n",
       "quantity             0\n",
       "order_date           0\n",
       "order_time           0\n",
       "unit_price           0\n",
       "total_price          0\n",
       "pizza_size           0\n",
       "pizza_category       0\n",
       "pizza_ingredients    0\n",
       "pizza_name           0\n",
       "dtype: int64"
      ]
     },
     "execution_count": 87,
     "metadata": {},
     "output_type": "execute_result"
    }
   ],
   "source": [
    "# checking for nulls\n",
    "\n",
    "df.isnull().sum()"
   ]
  },
  {
   "cell_type": "code",
   "execution_count": 88,
   "id": "f2d727af",
   "metadata": {},
   "outputs": [
    {
     "data": {
      "text/plain": [
       "0"
      ]
     },
     "execution_count": 88,
     "metadata": {},
     "output_type": "execute_result"
    }
   ],
   "source": [
    "# checking for duplicates in data\n",
    "\n",
    "df.duplicated().sum()"
   ]
  },
  {
   "cell_type": "code",
   "execution_count": 89,
   "id": "6c40d954",
   "metadata": {},
   "outputs": [
    {
     "data": {
      "text/html": [
       "<div>\n",
       "<style scoped>\n",
       "    .dataframe tbody tr th:only-of-type {\n",
       "        vertical-align: middle;\n",
       "    }\n",
       "\n",
       "    .dataframe tbody tr th {\n",
       "        vertical-align: top;\n",
       "    }\n",
       "\n",
       "    .dataframe thead th {\n",
       "        text-align: right;\n",
       "    }\n",
       "</style>\n",
       "<table border=\"1\" class=\"dataframe\">\n",
       "  <thead>\n",
       "    <tr style=\"text-align: right;\">\n",
       "      <th></th>\n",
       "      <th>order_details_id</th>\n",
       "      <th>order_id</th>\n",
       "      <th>quantity</th>\n",
       "      <th>unit_price</th>\n",
       "      <th>total_price</th>\n",
       "    </tr>\n",
       "  </thead>\n",
       "  <tbody>\n",
       "    <tr>\n",
       "      <th>count</th>\n",
       "      <td>48620.000000</td>\n",
       "      <td>48620.000000</td>\n",
       "      <td>48620.000000</td>\n",
       "      <td>48620.000000</td>\n",
       "      <td>48620.000000</td>\n",
       "    </tr>\n",
       "    <tr>\n",
       "      <th>mean</th>\n",
       "      <td>24310.500000</td>\n",
       "      <td>10701.479761</td>\n",
       "      <td>1.019622</td>\n",
       "      <td>16.494132</td>\n",
       "      <td>16.821474</td>\n",
       "    </tr>\n",
       "    <tr>\n",
       "      <th>std</th>\n",
       "      <td>14035.529381</td>\n",
       "      <td>6180.119770</td>\n",
       "      <td>0.143077</td>\n",
       "      <td>3.621789</td>\n",
       "      <td>4.437398</td>\n",
       "    </tr>\n",
       "    <tr>\n",
       "      <th>min</th>\n",
       "      <td>1.000000</td>\n",
       "      <td>1.000000</td>\n",
       "      <td>1.000000</td>\n",
       "      <td>9.750000</td>\n",
       "      <td>9.750000</td>\n",
       "    </tr>\n",
       "    <tr>\n",
       "      <th>25%</th>\n",
       "      <td>12155.750000</td>\n",
       "      <td>5337.000000</td>\n",
       "      <td>1.000000</td>\n",
       "      <td>12.750000</td>\n",
       "      <td>12.750000</td>\n",
       "    </tr>\n",
       "    <tr>\n",
       "      <th>50%</th>\n",
       "      <td>24310.500000</td>\n",
       "      <td>10682.500000</td>\n",
       "      <td>1.000000</td>\n",
       "      <td>16.500000</td>\n",
       "      <td>16.500000</td>\n",
       "    </tr>\n",
       "    <tr>\n",
       "      <th>75%</th>\n",
       "      <td>36465.250000</td>\n",
       "      <td>16100.000000</td>\n",
       "      <td>1.000000</td>\n",
       "      <td>20.250000</td>\n",
       "      <td>20.500000</td>\n",
       "    </tr>\n",
       "    <tr>\n",
       "      <th>max</th>\n",
       "      <td>48620.000000</td>\n",
       "      <td>21350.000000</td>\n",
       "      <td>4.000000</td>\n",
       "      <td>35.950000</td>\n",
       "      <td>83.000000</td>\n",
       "    </tr>\n",
       "  </tbody>\n",
       "</table>\n",
       "</div>"
      ],
      "text/plain": [
       "       order_details_id      order_id      quantity    unit_price  \\\n",
       "count      48620.000000  48620.000000  48620.000000  48620.000000   \n",
       "mean       24310.500000  10701.479761      1.019622     16.494132   \n",
       "std        14035.529381   6180.119770      0.143077      3.621789   \n",
       "min            1.000000      1.000000      1.000000      9.750000   \n",
       "25%        12155.750000   5337.000000      1.000000     12.750000   \n",
       "50%        24310.500000  10682.500000      1.000000     16.500000   \n",
       "75%        36465.250000  16100.000000      1.000000     20.250000   \n",
       "max        48620.000000  21350.000000      4.000000     35.950000   \n",
       "\n",
       "        total_price  \n",
       "count  48620.000000  \n",
       "mean      16.821474  \n",
       "std        4.437398  \n",
       "min        9.750000  \n",
       "25%       12.750000  \n",
       "50%       16.500000  \n",
       "75%       20.500000  \n",
       "max       83.000000  "
      ]
     },
     "execution_count": 89,
     "metadata": {},
     "output_type": "execute_result"
    }
   ],
   "source": [
    "# statistics of data\n",
    "\n",
    "df.describe()"
   ]
  },
  {
   "cell_type": "code",
   "execution_count": 90,
   "id": "6bec2ab3",
   "metadata": {},
   "outputs": [],
   "source": [
    "# extracting the date parts from order_date\n",
    "\n",
    "df['year'] = pd.DatetimeIndex(df['order_date']).year\n",
    "\n",
    "df['month'] = pd.DatetimeIndex(df['order_date']).month_name()\n",
    "\n",
    "df['weekday'] = pd.DatetimeIndex(df['order_date']).day_name()\n"
   ]
  },
  {
   "cell_type": "code",
   "execution_count": 92,
   "id": "987cb846",
   "metadata": {},
   "outputs": [],
   "source": [
    "# extracting hour from order_time\n",
    "\n",
    "df['order_hour'] = df['order_time']\n",
    "for i in range(len(df)):\n",
    "    df['order_hour'].iloc[i] = df['order_time'].values[i].hour\n"
   ]
  },
  {
   "attachments": {},
   "cell_type": "markdown",
   "id": "b46e3fba",
   "metadata": {},
   "source": [
    "# Exploratory Data Analysis"
   ]
  },
  {
   "attachments": {},
   "cell_type": "markdown",
   "id": "da03066a",
   "metadata": {},
   "source": [
    " ##   1. What days and times do we tend to be busiest?"
   ]
  },
  {
   "cell_type": "code",
   "execution_count": 230,
   "id": "8f0b6601",
   "metadata": {},
   "outputs": [
    {
     "data": {
      "image/png": "[encoded data removed]",
      "text/plain": [
       "<Figure size 1800x900 with 1 Axes>"
      ]
     },
     "metadata": {
      "needs_background": "light"
     },
     "output_type": "display_data"
    }
   ],
   "source": [
    "plt.figure(figsize=(12,6),dpi=150)\n",
    "sns.countplot(data=df, x='month',order=df['month'].value_counts().index, palette='Pastel1')\n",
    "plt.xlabel(\"Month\")\n",
    "plt.ylabel(\"Piza Count\")\n",
    "plt.title(\"Month vs Pizza Count\")\n",
    "plt.show();"
   ]
  },
  {
   "cell_type": "code",
   "execution_count": 234,
   "id": "3de62f7e",
   "metadata": {},
   "outputs": [
    {
     "data": {
      "text/plain": [
       "July         4301\n",
       "May          4239\n",
       "March        4186\n",
       "November     4185\n",
       "January      4156\n",
       "August       4094\n",
       "April        4067\n",
       "June         4025\n",
       "February     3892\n",
       "December     3859\n",
       "September    3819\n",
       "October      3797\n",
       "Name: month, dtype: int64"
      ]
     },
     "execution_count": 234,
     "metadata": {},
     "output_type": "execute_result"
    }
   ],
   "source": [
    "# order count per month\n",
    "df['month'].value_counts()"
   ]
  },
  {
   "cell_type": "code",
   "execution_count": 225,
   "id": "b7bb8e94",
   "metadata": {},
   "outputs": [
    {
     "data": {
      "image/png": "[encoded data removed]",
      "text/plain": [
       "<Figure size 1200x450 with 1 Axes>"
      ]
     },
     "metadata": {
      "needs_background": "light"
     },
     "output_type": "display_data"
    }
   ],
   "source": [
    "# order count per weekday \n",
    "\n",
    "plt.figure(figsize=(8,3),dpi=150)\n",
    "sns.countplot(data=df, x='weekday',order=df['weekday'].value_counts().index, palette='Pastel1')\n",
    "plt.xlabel(\"Weekday\")\n",
    "plt.ylabel(\"Orders Received\")\n",
    "plt.title(\"Weekday vs Order Count\")\n",
    "plt.show();"
   ]
  },
  {
   "cell_type": "code",
   "execution_count": 227,
   "id": "cb27447f",
   "metadata": {},
   "outputs": [
    {
     "data": {
      "text/plain": [
       "Friday       8106\n",
       "Saturday     7355\n",
       "Thursday     7323\n",
       "Wednesday    6797\n",
       "Tuesday      6753\n",
       "Monday       6369\n",
       "Sunday       5917\n",
       "Name: weekday, dtype: int64"
      ]
     },
     "execution_count": 227,
     "metadata": {},
     "output_type": "execute_result"
    }
   ],
   "source": [
    "# order count per weekday\n",
    "\n",
    "df['weekday'].value_counts()"
   ]
  },
  {
   "cell_type": "code",
   "execution_count": 226,
   "id": "ebb5b6e4",
   "metadata": {
    "scrolled": false
   },
   "outputs": [
    {
     "data": {
      "image/png": "[encoded data removed]",
      "text/plain": [
       "<Figure size 1200x450 with 1 Axes>"
      ]
     },
     "metadata": {
      "needs_background": "light"
     },
     "output_type": "display_data"
    }
   ],
   "source": [
    "plt.figure(figsize=(8,3),dpi=150)\n",
    "\n",
    "sns.countplot(data=df, x='order_hour',order=df['order_hour'].value_counts().index, palette=\"Pastel1\")\n",
    "plt.xlabel(\"Hour\")\n",
    "plt.ylabel(\"Orders Received\")\n",
    "plt.title(\"Hour vs Order Count\")\n",
    "plt.show();"
   ]
  },
  {
   "cell_type": "code",
   "execution_count": 96,
   "id": "b2162a6a",
   "metadata": {},
   "outputs": [
    {
     "data": {
      "text/plain": [
       "12    6543\n",
       "13    6203\n",
       "18    5359\n",
       "17    5143\n",
       "19    4350\n",
       "16    4185\n",
       "14    3521\n",
       "20    3487\n",
       "15    3170\n",
       "11    2672\n",
       "21    2528\n",
       "22    1370\n",
       "23      68\n",
       "10      17\n",
       "9        4\n",
       "Name: order_hour, dtype: int64"
      ]
     },
     "execution_count": 96,
     "metadata": {},
     "output_type": "execute_result"
    }
   ],
   "source": [
    "# order count per hour\n",
    "\n",
    "df['order_hour'].value_counts()"
   ]
  },
  {
   "attachments": {},
   "cell_type": "markdown",
   "id": "207b8032",
   "metadata": {},
   "source": [
    "## 2. How many pizzas are we making during peak periods?"
   ]
  },
  {
   "cell_type": "code",
   "execution_count": 94,
   "id": "cd7bf340",
   "metadata": {},
   "outputs": [
    {
     "data": {
      "text/plain": [
       "order_hour\n",
       "12    6776\n",
       "13    6413\n",
       "18    5417\n",
       "17    5211\n",
       "19    4406\n",
       "16    4239\n",
       "14    3613\n",
       "20    3534\n",
       "15    3216\n",
       "11    2728\n",
       "21    2545\n",
       "22    1386\n",
       "23      68\n",
       "10      18\n",
       "9        4\n",
       "Name: quantity, dtype: int64"
      ]
     },
     "execution_count": 94,
     "metadata": {},
     "output_type": "execute_result"
    }
   ],
   "source": [
    "df.groupby(['order_hour'])['quantity'].sum().sort_values(ascending=False)"
   ]
  },
  {
   "cell_type": "code",
   "execution_count": 97,
   "id": "b78e2cc1",
   "metadata": {},
   "outputs": [
    {
     "name": "stdout",
     "output_type": "stream",
     "text": [
      "Total Pizza Count for 12-1pm:\n"
     ]
    },
    {
     "data": {
      "text/plain": [
       "13189"
      ]
     },
     "execution_count": 97,
     "metadata": {},
     "output_type": "execute_result"
    }
   ],
   "source": [
    "print('Total Pizza Count for 12-1pm:')\n",
    "df.groupby(['order_hour'])['quantity'].sum().sort_values(ascending=False)[:2].sum()"
   ]
  },
  {
   "cell_type": "code",
   "execution_count": 98,
   "id": "7c77df79",
   "metadata": {},
   "outputs": [
    {
     "name": "stdout",
     "output_type": "stream",
     "text": [
      "Total Pizza Count for 5-6pm:\n"
     ]
    },
    {
     "data": {
      "text/plain": [
       "10628"
      ]
     },
     "execution_count": 98,
     "metadata": {},
     "output_type": "execute_result"
    }
   ],
   "source": [
    "print('Total Pizza Count for 5-6pm:')\n",
    "df.groupby(['order_hour'])['quantity'].sum().sort_values(ascending=False)[2:4].sum()"
   ]
  },
  {
   "cell_type": "code",
   "execution_count": 167,
   "id": "9dd13438",
   "metadata": {},
   "outputs": [
    {
     "data": {
      "text/plain": [
       "weekday  order_hour\n",
       "Friday   12            1101\n",
       "         13            1040\n",
       "         18             936\n",
       "         17             759\n",
       "         19             748\n",
       "         20             706\n",
       "         21             613\n",
       "         16             578\n",
       "         14             525\n",
       "         15             441\n",
       "         11             388\n",
       "         22             381\n",
       "         23              26\n",
       "Name: quantity, dtype: int64"
      ]
     },
     "execution_count": 167,
     "metadata": {},
     "output_type": "execute_result"
    }
   ],
   "source": [
    "# pizza count per hour on Friday\n",
    "grouped = df.groupby(['weekday','order_hour'])['quantity'].sum()\n",
    "grouped.filter(like='Friday',axis=0).sort_values(ascending=False)"
   ]
  },
  {
   "attachments": {},
   "cell_type": "markdown",
   "id": "e719af71",
   "metadata": {},
   "source": [
    "## 3. What are our best and worst-selling pizzas?"
   ]
  },
  {
   "cell_type": "code",
   "execution_count": 183,
   "id": "dd6dd60c",
   "metadata": {},
   "outputs": [
    {
     "name": "stdout",
     "output_type": "stream",
     "text": [
      "Top 3 Best_Selling Pizza (by name):\n"
     ]
    },
    {
     "data": {
      "text/plain": [
       "pizza_name\n",
       "The Classic Deluxe Pizza      2453\n",
       "The Barbecue Chicken Pizza    2432\n",
       "The Hawaiian Pizza            2422\n",
       "Name: quantity, dtype: int64"
      ]
     },
     "execution_count": 183,
     "metadata": {},
     "output_type": "execute_result"
    }
   ],
   "source": [
    "print('Top 3 Best_Selling Pizza (by name):')\n",
    "df.groupby(['pizza_name'])['quantity'].sum().sort_values(ascending=False)[:3]"
   ]
  },
  {
   "cell_type": "code",
   "execution_count": 184,
   "id": "34767f47",
   "metadata": {},
   "outputs": [
    {
     "name": "stdout",
     "output_type": "stream",
     "text": [
      "Top 3 Worst-Selling Pizza (by name):\n"
     ]
    },
    {
     "data": {
      "text/plain": [
       "pizza_name\n",
       "The Brie Carre Pizza       490\n",
       "The Mediterranean Pizza    934\n",
       "The Calabrese Pizza        937\n",
       "Name: quantity, dtype: int64"
      ]
     },
     "execution_count": 184,
     "metadata": {},
     "output_type": "execute_result"
    }
   ],
   "source": [
    "print('Top 3 Worst-Selling Pizza (by name):')\n",
    "df.groupby(['pizza_name'])['quantity'].sum().sort_values()[:3]"
   ]
  },
  {
   "cell_type": "code",
   "execution_count": 185,
   "id": "37b44d5e",
   "metadata": {},
   "outputs": [
    {
     "name": "stdout",
     "output_type": "stream",
     "text": [
      "Top 3 Best_Selling Pizza (by id):\n"
     ]
    },
    {
     "data": {
      "text/plain": [
       "pizza_id\n",
       "big_meat_s       1914\n",
       "thai_ckn_l       1410\n",
       "five_cheese_l    1409\n",
       "Name: quantity, dtype: int64"
      ]
     },
     "execution_count": 185,
     "metadata": {},
     "output_type": "execute_result"
    }
   ],
   "source": [
    "print('Top 3 Best_Selling Pizza (by id):')\n",
    "df.groupby(['pizza_id'])['quantity'].sum().sort_values(ascending=False)[:3]"
   ]
  },
  {
   "cell_type": "code",
   "execution_count": 186,
   "id": "fcafc7c8",
   "metadata": {},
   "outputs": [
    {
     "name": "stdout",
     "output_type": "stream",
     "text": [
      "Top 3 Best_Selling Pizza (by id):\n"
     ]
    },
    {
     "data": {
      "text/plain": [
       "pizza_id\n",
       "the_greek_xxl     28\n",
       "green_garden_l    95\n",
       "ckn_alfredo_s     96\n",
       "Name: quantity, dtype: int64"
      ]
     },
     "execution_count": 186,
     "metadata": {},
     "output_type": "execute_result"
    }
   ],
   "source": [
    "print('Top 3 Best_Selling Pizza (by id):')\n",
    "df.groupby(['pizza_id'])['quantity'].sum().sort_values()[:3]"
   ]
  },
  {
   "cell_type": "code",
   "execution_count": 237,
   "id": "a4caa06f",
   "metadata": {},
   "outputs": [
    {
     "name": "stdout",
     "output_type": "stream",
     "text": [
      "Pizza Count by Category:\n"
     ]
    },
    {
     "data": {
      "text/plain": [
       "pizza_category\n",
       "Classic    14888\n",
       "Supreme    11987\n",
       "Veggie     11649\n",
       "Chicken    11050\n",
       "Name: quantity, dtype: int64"
      ]
     },
     "execution_count": 237,
     "metadata": {},
     "output_type": "execute_result"
    }
   ],
   "source": [
    "print('Pizza Count by Category:')\n",
    "df.groupby(['pizza_category'])['quantity'].sum().sort_values(ascending=False)"
   ]
  },
  {
   "attachments": {},
   "cell_type": "markdown",
   "id": "20f4aec9",
   "metadata": {},
   "source": [
    "## 4. What's our average order value?"
   ]
  },
  {
   "cell_type": "code",
   "execution_count": 192,
   "id": "79ddc5b1",
   "metadata": {},
   "outputs": [
    {
     "name": "stdout",
     "output_type": "stream",
     "text": [
      "Yearly average order value: [38.30726229508197]\n"
     ]
    }
   ],
   "source": [
    "# avg order value per year\n",
    "avg = [df['total_price'].sum()/df['order_id'].max()]\n",
    "print('Yearly average order value:', avg)"
   ]
  },
  {
   "cell_type": "code",
   "execution_count": 194,
   "id": "cfca94e5",
   "metadata": {},
   "outputs": [
    {
     "name": "stdout",
     "output_type": "stream",
     "text": [
      "Monthly Sales & Avg Order Value:\n"
     ]
    },
    {
     "data": {
      "text/html": [
       "<div>\n",
       "<style scoped>\n",
       "    .dataframe tbody tr th:only-of-type {\n",
       "        vertical-align: middle;\n",
       "    }\n",
       "\n",
       "    .dataframe tbody tr th {\n",
       "        vertical-align: top;\n",
       "    }\n",
       "\n",
       "    .dataframe thead th {\n",
       "        text-align: right;\n",
       "    }\n",
       "</style>\n",
       "<table border=\"1\" class=\"dataframe\">\n",
       "  <thead>\n",
       "    <tr style=\"text-align: right;\">\n",
       "      <th></th>\n",
       "      <th>Month</th>\n",
       "      <th>Orders</th>\n",
       "      <th>Total Pizza Sales</th>\n",
       "      <th>Total Price</th>\n",
       "      <th>Average Order Value</th>\n",
       "    </tr>\n",
       "  </thead>\n",
       "  <tbody>\n",
       "    <tr>\n",
       "      <th>0</th>\n",
       "      <td>April</td>\n",
       "      <td>1799</td>\n",
       "      <td>4151</td>\n",
       "      <td>68736.80</td>\n",
       "      <td>38.208338</td>\n",
       "    </tr>\n",
       "    <tr>\n",
       "      <th>1</th>\n",
       "      <td>August</td>\n",
       "      <td>1841</td>\n",
       "      <td>4168</td>\n",
       "      <td>68278.25</td>\n",
       "      <td>37.087588</td>\n",
       "    </tr>\n",
       "    <tr>\n",
       "      <th>2</th>\n",
       "      <td>December</td>\n",
       "      <td>1680</td>\n",
       "      <td>3935</td>\n",
       "      <td>64701.15</td>\n",
       "      <td>38.512589</td>\n",
       "    </tr>\n",
       "    <tr>\n",
       "      <th>3</th>\n",
       "      <td>February</td>\n",
       "      <td>1685</td>\n",
       "      <td>3961</td>\n",
       "      <td>65159.60</td>\n",
       "      <td>38.670386</td>\n",
       "    </tr>\n",
       "    <tr>\n",
       "      <th>4</th>\n",
       "      <td>January</td>\n",
       "      <td>1845</td>\n",
       "      <td>4232</td>\n",
       "      <td>69793.30</td>\n",
       "      <td>37.828347</td>\n",
       "    </tr>\n",
       "    <tr>\n",
       "      <th>5</th>\n",
       "      <td>July</td>\n",
       "      <td>1935</td>\n",
       "      <td>4392</td>\n",
       "      <td>72557.90</td>\n",
       "      <td>37.497623</td>\n",
       "    </tr>\n",
       "    <tr>\n",
       "      <th>6</th>\n",
       "      <td>June</td>\n",
       "      <td>1773</td>\n",
       "      <td>4107</td>\n",
       "      <td>68230.20</td>\n",
       "      <td>38.482910</td>\n",
       "    </tr>\n",
       "    <tr>\n",
       "      <th>7</th>\n",
       "      <td>March</td>\n",
       "      <td>1840</td>\n",
       "      <td>4261</td>\n",
       "      <td>70397.10</td>\n",
       "      <td>38.259293</td>\n",
       "    </tr>\n",
       "    <tr>\n",
       "      <th>8</th>\n",
       "      <td>May</td>\n",
       "      <td>1853</td>\n",
       "      <td>4328</td>\n",
       "      <td>71402.75</td>\n",
       "      <td>38.533594</td>\n",
       "    </tr>\n",
       "    <tr>\n",
       "      <th>9</th>\n",
       "      <td>November</td>\n",
       "      <td>1792</td>\n",
       "      <td>4266</td>\n",
       "      <td>70395.35</td>\n",
       "      <td>39.283119</td>\n",
       "    </tr>\n",
       "    <tr>\n",
       "      <th>10</th>\n",
       "      <td>October</td>\n",
       "      <td>1646</td>\n",
       "      <td>3883</td>\n",
       "      <td>64027.60</td>\n",
       "      <td>38.898906</td>\n",
       "    </tr>\n",
       "    <tr>\n",
       "      <th>11</th>\n",
       "      <td>September</td>\n",
       "      <td>1661</td>\n",
       "      <td>3890</td>\n",
       "      <td>64180.05</td>\n",
       "      <td>38.639404</td>\n",
       "    </tr>\n",
       "  </tbody>\n",
       "</table>\n",
       "</div>"
      ],
      "text/plain": [
       "        Month  Orders  Total Pizza Sales  Total Price  Average Order Value\n",
       "0       April    1799               4151     68736.80            38.208338\n",
       "1      August    1841               4168     68278.25            37.087588\n",
       "2    December    1680               3935     64701.15            38.512589\n",
       "3    February    1685               3961     65159.60            38.670386\n",
       "4     January    1845               4232     69793.30            37.828347\n",
       "5        July    1935               4392     72557.90            37.497623\n",
       "6        June    1773               4107     68230.20            38.482910\n",
       "7       March    1840               4261     70397.10            38.259293\n",
       "8         May    1853               4328     71402.75            38.533594\n",
       "9    November    1792               4266     70395.35            39.283119\n",
       "10    October    1646               3883     64027.60            38.898906\n",
       "11  September    1661               3890     64180.05            38.639404"
      ]
     },
     "execution_count": 194,
     "metadata": {},
     "output_type": "execute_result"
    }
   ],
   "source": [
    "total_order_month = df.groupby('month')['order_id'].nunique().reset_index()\n",
    "total_pizza_month = df.groupby('month')['quantity'].sum().reset_index()\n",
    "total_price_month = df.groupby('month')['total_price'].sum().reset_index()\n",
    "average_month = (total_price_month['total_price']/total_order_month['order_id'])\n",
    "monthly_sales = pd.DataFrame(zip(total_order_month.month, total_order_month.order_id, total_pizza_month.quantity, total_price_month.total_price, average_month))\n",
    "monthly_sales.columns = ['Month','Orders', 'Total Pizza Sales', 'Total Price', 'Average Order Value']\n",
    "print('Monthly Sales & Avg Order Value:')\n",
    "monthly_sales"
   ]
  },
  {
   "attachments": {},
   "cell_type": "markdown",
   "id": "0ee10fe9",
   "metadata": {},
   "source": [
    "## 5. How well are we utilizing our seating capacity? (we have 15 tables and 60 seats)"
   ]
  },
  {
   "cell_type": "code",
   "execution_count": 239,
   "id": "fd666330",
   "metadata": {},
   "outputs": [
    {
     "data": {
      "text/plain": [
       "1    47693\n",
       "2      903\n",
       "3       21\n",
       "4        3\n",
       "Name: quantity, dtype: int64"
      ]
     },
     "execution_count": 239,
     "metadata": {},
     "output_type": "execute_result"
    }
   ],
   "source": [
    "df['quantity'].value_counts()"
   ]
  },
  {
   "cell_type": "code",
   "execution_count": 254,
   "id": "b95bd288",
   "metadata": {},
   "outputs": [
    {
     "data": {
      "image/png": "[encoded data removed]",
      "text/plain": [
       "<Figure size 900x600 with 1 Axes>"
      ]
     },
     "metadata": {
      "needs_background": "light"
     },
     "output_type": "display_data"
    }
   ],
   "source": [
    "plt.figure(figsize=(6,4),dpi=150)\n",
    "\n",
    "sns.countplot(data=df, x='quantity',order=df['quantity'].value_counts().index, palette=\"Pastel1\")\n",
    "plt.xlabel(\"Number of Customers\")\n",
    "plt.ylabel(\"Order Count\")\n",
    "plt.title(\"Customer Conut vs Order Count\")\n",
    "plt.show();"
   ]
  },
  {
   "attachments": {},
   "cell_type": "markdown",
   "id": "bd79da63",
   "metadata": {},
   "source": [
    "### Number of customers per order range between 1-4 with 1 being the most. Seat capacity is being well-utilized."
   ]
  }
 ],
 "metadata": {
  "kernelspec": {
   "display_name": "Python 3 (ipykernel)",
   "language": "python",
   "name": "python3"
  },
  "language_info": {
   "codemirror_mode": {
    "name": "ipython",
    "version": 3
   },
   "file_extension": ".py",
   "mimetype": "text/x-python",
   "name": "python",
   "nbconvert_exporter": "python",
   "pygments_lexer": "ipython3",
   "version": "3.9.7"
  }
 },
 "nbformat": 4,
 "nbformat_minor": 5
}
